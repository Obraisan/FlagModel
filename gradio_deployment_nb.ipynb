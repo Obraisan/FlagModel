{
 "cells": [
  {
   "cell_type": "markdown",
   "id": "7b2ab94a",
   "metadata": {},
   "source": [
    "# Creating a Gradio App to Share Your Model\n"
   ]
  },
  {
   "cell_type": "markdown",
   "id": "120c831d",
   "metadata": {},
   "source": [
    "#### Install the libraries if you haven't yet:"
   ]
  },
  {
   "cell_type": "code",
   "execution_count": null,
   "id": "4703a78a",
   "metadata": {},
   "outputs": [],
   "source": [
    "# !pip install gradio fastai"
   ]
  },
  {
   "cell_type": "markdown",
   "id": "6e671cf3",
   "metadata": {},
   "source": [
    "#### Importing Required Libraries for Gradio Application, these libraries work together to load the model, process images, and create an interactive web interface"
   ]
  },
  {
   "cell_type": "code",
   "execution_count": 9,
   "id": "9a05dd13",
   "metadata": {},
   "outputs": [],
   "source": [
    "# Importing required libraries:\n",
    "\n",
    "import gradio as gr\n",
    "from fastai.vision.all import *\n",
    "import PIL"
   ]
  },
  {
   "cell_type": "markdown",
   "id": "130f0e7b",
   "metadata": {},
   "source": [
    "#### Loading the Trained Model for Inference:\n",
    "This code cell loads the pre-trained flag classification model that was previously trained and saved."
   ]
  },
  {
   "cell_type": "code",
   "execution_count": 8,
   "id": "5e9f7c27",
   "metadata": {},
   "outputs": [],
   "source": [
    "# Load your saved model (assuming you've exported it)\n",
    "\n",
    "model = load_learner('/home/obraisan/flagmodel/ccaa_flag_model.pkl')"
   ]
  },
  {
   "cell_type": "markdown",
   "id": "5c21b81f",
   "metadata": {},
   "source": [
    "### Creating the Prediction Function:\n",
    "\n",
    "#### This cell defines the core function that processes user inputs and returns model predictions.\n",
    "\n",
    "Function Workflow:\n",
    "\n",
    "* Image Conversion: Converts Gradio's image input to FastAI's PILImage format\n",
    "\n",
    "* Model Prediction: Uses the loaded model to generate predictions\n",
    "\n",
    "* Confidence Calculation: Extracts probability scores for all classes\n",
    "\n",
    "* Result Formatting: Structures output for clear display in the interface"
   ]
  },
  {
   "cell_type": "code",
   "execution_count": 10,
   "id": "5c3d1ac1",
   "metadata": {},
   "outputs": [],
   "source": [
    "# Function to classify uploaded images\n",
    "\n",
    "def classify_flag(image):\n",
    "    \"\"\"Function to process uploaded image and return predictions\"\"\"\n",
    "    \n",
    "    # Convert gradio image to format expected by fastai\n",
    "    img = PILImage.create(image)\n",
    "    \n",
    "    # Get prediction\n",
    "    pred, pred_idx, probs = model.predict(img)\n",
    "    \n",
    "    # Create confidence scores for all classes\n",
    "    confidence_scores = {model.dls.vocab[i]: float(probs[i]) for i in range(len(probs))}\n",
    "    \n",
    "    # Return top prediction and all confidence scores\n",
    "    return pred, confidence_scores"
   ]
  },
  {
   "cell_type": "markdown",
   "id": "47d9ea79",
   "metadata": {},
   "source": [
    "### Configuring the Gradio Interface\n",
    "\n",
    "This cell sets up the main Gradio interface with all user-facing components.\n",
    "\n",
    "#### Interface Components:\n",
    "\n",
    "* Inputs: Image upload widget with clear labeling\n",
    "\n",
    "* Outputs: Two label displays for prediction and confidence scores\n",
    "\n",
    "* Configuration: Title, description, and optional example images\n",
    "\n",
    "* Theme: Optional styling for better visual appearance"
   ]
  },
  {
   "cell_type": "code",
   "execution_count": 11,
   "id": "964ecc52",
   "metadata": {},
   "outputs": [],
   "source": [
    "# Setup Gradio interface\n",
    "\n",
    "demo = gr.Interface(\n",
    "    fn=classify_flag,\n",
    "    inputs=gr.Image(label=\"Upload Flag Image\", type=\"filepath\"),\n",
    "    outputs=[\n",
    "        gr.Label(label=\"Predicted Region\"),\n",
    "        gr.Label(label=\"Confidence Scores\")\n",
    "    ],\n",
    "    title=\"Spanish CCAA Flag Classifier\",\n",
    "    description=\"Upload an image of any Spanish regional flag, and the AI will identify which CCAA it belongs to with confidence scores.\",\n",
    "    examples=[  # Optional: provide example images\n",
    "        \"/home/obraisan/datasets/banderas/pais vasco/6be93546-cda4-4620-84a1-8d5e81647213.jpg\",\n",
    "        \"/home/obraisan/datasets/banderas/galicia/7b8fcbc2-91d1-4514-8286-3f8c84838801.jpg\"\n",
    "    ],\n",
    "    theme=\"soft\"  # Optional: choose a theme\n",
    ")"
   ]
  },
  {
   "cell_type": "markdown",
   "id": "4eb09394",
   "metadata": {},
   "source": [
    "#### Launching the Web Application\n",
    "\n",
    "Launch Options,  if share=True it Creates a public URL that can be accessed from anywhere"
   ]
  },
  {
   "cell_type": "code",
   "execution_count": 12,
   "id": "addf5ab6",
   "metadata": {},
   "outputs": [
    {
     "name": "stdout",
     "output_type": "stream",
     "text": [
      "* Running on local URL:  http://127.0.0.1:7860\n",
      "\n",
      "Could not create share link. Please check your internet connection or our status page: https://status.gradio.app.\n"
     ]
    },
    {
     "name": "stderr",
     "output_type": "stream",
     "text": [
      "2025/10/05 13:49:22 [W] [service.go:132] login to server failed: i/o deadline reached\n"
     ]
    },
    {
     "data": {
      "text/html": [
       "<div><iframe src=\"http://127.0.0.1:7860/\" width=\"100%\" height=\"500\" allow=\"autoplay; camera; microphone; clipboard-read; clipboard-write;\" frameborder=\"0\" allowfullscreen></iframe></div>"
      ],
      "text/plain": [
       "<IPython.core.display.HTML object>"
      ]
     },
     "metadata": {},
     "output_type": "display_data"
    },
    {
     "data": {
      "text/plain": []
     },
     "execution_count": 12,
     "metadata": {},
     "output_type": "execute_result"
    },
    {
     "data": {
      "text/html": [
       "\n",
       "<style>\n",
       "    /* Turns off some styling */\n",
       "    progress {\n",
       "        /* gets rid of default border in Firefox and Opera. */\n",
       "        border: none;\n",
       "        /* Needs to be in here for Safari polyfill so background images work as expected. */\n",
       "        background-size: auto;\n",
       "    }\n",
       "    progress:not([value]), progress:not([value])::-webkit-progress-bar {\n",
       "        background: repeating-linear-gradient(45deg, #7e7e7e, #7e7e7e 10px, #5c5c5c 10px, #5c5c5c 20px);\n",
       "    }\n",
       "    .progress-bar-interrupted, .progress-bar-interrupted::-webkit-progress-bar {\n",
       "        background: #F44336;\n",
       "    }\n",
       "</style>\n"
      ],
      "text/plain": [
       "<IPython.core.display.HTML object>"
      ]
     },
     "metadata": {},
     "output_type": "display_data"
    },
    {
     "data": {
      "text/html": [],
      "text/plain": [
       "<IPython.core.display.HTML object>"
      ]
     },
     "metadata": {},
     "output_type": "display_data"
    },
    {
     "data": {
      "text/html": [
       "\n",
       "<style>\n",
       "    /* Turns off some styling */\n",
       "    progress {\n",
       "        /* gets rid of default border in Firefox and Opera. */\n",
       "        border: none;\n",
       "        /* Needs to be in here for Safari polyfill so background images work as expected. */\n",
       "        background-size: auto;\n",
       "    }\n",
       "    progress:not([value]), progress:not([value])::-webkit-progress-bar {\n",
       "        background: repeating-linear-gradient(45deg, #7e7e7e, #7e7e7e 10px, #5c5c5c 10px, #5c5c5c 20px);\n",
       "    }\n",
       "    .progress-bar-interrupted, .progress-bar-interrupted::-webkit-progress-bar {\n",
       "        background: #F44336;\n",
       "    }\n",
       "</style>\n"
      ],
      "text/plain": [
       "<IPython.core.display.HTML object>"
      ]
     },
     "metadata": {},
     "output_type": "display_data"
    },
    {
     "data": {
      "text/html": [],
      "text/plain": [
       "<IPython.core.display.HTML object>"
      ]
     },
     "metadata": {},
     "output_type": "display_data"
    }
   ],
   "source": [
    "# For local testing\n",
    "demo.launch(share=True)"
   ]
  },
  {
   "cell_type": "code",
   "execution_count": null,
   "id": "8e91058e",
   "metadata": {},
   "outputs": [],
   "source": []
  }
 ],
 "metadata": {
  "kernelspec": {
   "display_name": "ml-gpu",
   "language": "python",
   "name": "python3"
  },
  "language_info": {
   "codemirror_mode": {
    "name": "ipython",
    "version": 3
   },
   "file_extension": ".py",
   "mimetype": "text/x-python",
   "name": "python",
   "nbconvert_exporter": "python",
   "pygments_lexer": "ipython3",
   "version": "3.10.18"
  }
 },
 "nbformat": 4,
 "nbformat_minor": 5
}
